{
  "nbformat": 4,
  "nbformat_minor": 0,
  "metadata": {
    "colab": {
      "provenance": []
    },
    "kernelspec": {
      "name": "python3",
      "display_name": "Python 3"
    },
    "language_info": {
      "name": "python"
    }
  },
  "cells": [
    {
      "cell_type": "markdown",
      "source": [],
      "metadata": {
        "id": "xJwVy9dVQ3I0"
      }
    },
    {
      "cell_type": "markdown",
      "source": [
        "## Data ingestion preparation pipeline\n",
        "###  Data Engineer: Miguel Avila\n",
        "###  Reviewers: Luis Hermenegildo, Edgar Correa, Diego JE\n",
        "###  Proyecto Final del BootCamp Wizeline MLOPS2\n",
        "###  Equipo: mlops-equipo5 Segunda Edicion, 2024\n"
      ],
      "metadata": {
        "id": "jTPiFOPjPzTz"
      }
    },
    {
      "cell_type": "markdown",
      "source": [
        "#### Install Kaggle Library to retrieve latest version"
      ],
      "metadata": {
        "id": "qXQ5IskcQ8DS"
      }
    },
    {
      "cell_type": "code",
      "source": [
        "#from https://www.kaggle.com/discussions/general/74235\n",
        "!pip install kaggle\n"
      ],
      "metadata": {
        "id": "wrxr4fFKXXAh"
      },
      "execution_count": null,
      "outputs": []
    },
    {
      "cell_type": "markdown",
      "source": [
        "####Manual upload of kaggle key file"
      ],
      "metadata": {
        "id": "gwRwtVPTRSac"
      }
    },
    {
      "cell_type": "code",
      "source": [
        "#run this code if we are looking into uploading a local data source\n",
        "from google.colab import files\n",
        "files.upload()"
      ],
      "metadata": {
        "id": "hK2jyVRTZN9Z"
      },
      "execution_count": null,
      "outputs": []
    },
    {
      "cell_type": "markdown",
      "source": [
        "#### Variable definitions and formats"
      ],
      "metadata": {
        "id": "ZPwCkKdSRX2D"
      }
    },
    {
      "cell_type": "code",
      "source": [
        "#define config variables\n",
        "\n",
        "src_folder = 'src_online_retail'\n",
        "src_name = 'online_retail_raw.csv'\n",
        "stg_folder = 'stg_online_retail'\n",
        "stg_name = 'online_retail_stg.csv'\n",
        "stg_rejected_name = 'online_retail_stg_rejected.csv'\n",
        "prod_folder = 'prod_online_retail'\n",
        "model_train_data = 'online_retail_train.csv'\n",
        "model_train_pct = 0.6\n",
        "model_validation_data = 'online_retail_validation.csv'\n",
        "model_validation_pct = 0.2\n",
        "model_test_data = 'online_retail_test.csv'\n",
        "model_test_pct = 0.2\n",
        "\n",
        "\n",
        "date_format = '%m/%d/%Y %H:%M'"
      ],
      "metadata": {
        "id": "KjsnQEndJJvM"
      },
      "execution_count": null,
      "outputs": []
    },
    {
      "cell_type": "markdown",
      "source": [
        "#### Connect to Kaggle using local key file and download data file"
      ],
      "metadata": {
        "id": "sz8RIqUoRjx6"
      }
    },
    {
      "cell_type": "code",
      "source": [
        "#EXTRACT DATA PHASE\n",
        "#connect to KAGGLE api and get raw data\n",
        "\n",
        "! mkdir ~/.kaggle\n",
        "! cp /content/kaggle.json ~/.kaggle/\n",
        "! chmod 600 ~/.kaggle/kaggle.json\n",
        "#! kaggle datasets list\n",
        "! kaggle datasets download -d vijayuv/onlineretail\n",
        "! mkdir {src_folder}\n",
        "! mkdir {stg_folder}\n",
        "! mkdir {prod_folder}\n",
        "! unzip onlineretail.zip -d {src_folder}/\n",
        "! mv {src_folder}/OnlineRetail.csv {src_folder}/{src_name}"
      ],
      "metadata": {
        "id": "y5pqsRQ1ZbiC"
      },
      "execution_count": null,
      "outputs": []
    }
  ]
}